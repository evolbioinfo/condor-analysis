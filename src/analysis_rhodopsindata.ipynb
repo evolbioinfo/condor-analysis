{
 "cells": [
  {
   "cell_type": "code",
   "execution_count": 1,
   "metadata": {},
   "outputs": [],
   "source": [
    "import pandas as pd\n",
    "\n",
    "# handle fasta files\n",
    "import numpy as np\n",
    "import matplotlib.pyplot as plt\n",
    "import matplotlib.patches as mpatches\n",
    "import matplotlib.lines as mlines\n",
    "import seaborn as sns\n",
    "import glob\n",
    "from collections import Counter"
   ]
  },
  {
   "cell_type": "code",
   "execution_count": 2,
   "metadata": {},
   "outputs": [],
   "source": [
    "##change to path of condor-analysis\n",
    "path_local = \"U:/users/mamorel/Projet_Convergence/condor-analysis/\"\n",
    "\n",
    "\n"
   ]
  },
  {
   "cell_type": "code",
   "execution_count": 3,
   "metadata": {},
   "outputs": [
    {
     "name": "stdout",
     "output_type": "stream",
     "text": [
      "LG_freshbrackish 60 {'292S', '83D', '261Y', '83N'}\n",
      "LG_marine 60 {'292S', '83D', '261Y', '83N'}\n"
     ]
    }
   ],
   "source": [
    "#workdir = \"JTT_freshbrackish\"\n",
    "#workdir = \"JTT_marine\"\n",
    "workdir = \"LG_freshbrackish\"\n",
    "#workdir = \"LG_marine\"\n",
    "\n",
    "for workdir in [\"LG_freshbrackish\", \"LG_marine\"]:\n",
    "    all_substitutions = pd.read_csv(\n",
    "        path_local\n",
    "        + \"results/rhodopsin/condor/\"\n",
    "        + workdir\n",
    "        + \"/tested_results.tsv\",\n",
    "        sep=\"\\t\",\n",
    "    )\n",
    "    risk = 0.1\n",
    "\n",
    "    interest = all_substitutions[all_substitutions.adjust_pvalue <= risk]\n",
    "    pos_mut = [\n",
    "        \"\".join([str(i + 12), j]) for i, j in zip(interest.position, interest.mut)\n",
    "    ]\n",
    "    print(workdir, len(interest), set(pos_mut).intersection([\"83D\", \"261Y\", \"292S\", \"83N\", \"122Q\", \"122E\", \"292A\", \"261F\"]))"
   ]
  },
  {
   "cell_type": "markdown",
   "metadata": {},
   "source": [
    "## Number of detections"
   ]
  },
  {
   "cell_type": "code",
   "execution_count": 8,
   "metadata": {},
   "outputs": [
    {
     "name": "stdout",
     "output_type": "stream",
     "text": [
      "LG_marine FADE 100 55 {'292S', '83N'}\n",
      "LG_marine FADE 1000 40 {'292S', '83N'}\n",
      "LG_marine FADE 2000 36 {'292S'}\n",
      "LG_marine Emergence 0.1 60 {'292S', '83D', '261Y', '83N'}\n",
      "LG_marine correlation 20 33 {'292S', '261F', '83N'}\n",
      "LG_marine Condor 20 9 {'292S', '83N'}\n",
      "LG_marine pcoc 0.8 9 {'122Q'}\n"
     ]
    }
   ],
   "source": [
    "#\"LG_freshbrackish\", \"LG_marine\", \"JTT_freshbrackish\", \"JTT_marine\"\n",
    "\n",
    "\n",
    "#1st with freshbrackish environment\n",
    "\n",
    "#workdir = \"LG_freshbrackish\" \n",
    "#pcoc_results = pd.read_csv(path_local+\"results/rhodopsin/PCOC/pcoc_pastml_freshbrackish/lessgappy.align_reroot.results.tsv\", sep=\"\\t\")\n",
    "\n",
    "#2nd with marine environment\n",
    "workdir = \"LG_marine\"\n",
    "pcoc_results = pd.read_csv(path_local+\"results/rhodopsin/PCOC/pcoc_pastml_marine/lessgappy.align_reroot.results.tsv\", sep=\"\\t\")\n",
    "\n",
    "all_substitutions = pd.read_csv(\n",
    "    path_local\n",
    "    + \"results/rhodopsin/condor/\"\n",
    "    + workdir\n",
    "    + \"/tested_results.tsv\",\n",
    "    sep=\"\\t\",\n",
    ")\n",
    "\n",
    "\n",
    "\n",
    "subset_pcoc_results = pd.DataFrame(pcoc_results[pcoc_results.Sites.isin(all_substitutions.position)])\n",
    "subset_pcoc_results.rename(columns={\"Sites\": \"position\"}, inplace = True)\n",
    "All_bayes_pcoc = pd.merge(all_substitutions, subset_pcoc_results, on=\"position\")\n",
    "\n",
    "FADE_file = path_local+\"results/rhodopsin/FADE/datamonkey-rhodo_conjunction_\"+workdir+\".csv\"\n",
    "\n",
    "FADE = pd.read_csv(FADE_file, sep=\",\")\n",
    "FADE.columns = [\"mut\", \"position\", \"rate\", \"bias\", \"proba\", \"BF_fade\", \"composition\", \"substitutions\"]\n",
    "FADE[\"posmut\"] = FADE[\"position\"].astype(str)+FADE[\"mut\"]\n",
    "FADE_tested = pd.DataFrame(FADE[FADE.posmut.isin(all_substitutions[\"posmut\"])])\n",
    "\n",
    "All_bayes_pcoc_fade = pd.merge(All_bayes_pcoc, FADE_tested , on=[\"posmut\", \"position\", \"mut\"])\n",
    "\n",
    "for BF in [100, 1000, 2000]:\n",
    "    FADE = All_bayes_pcoc_fade[All_bayes_pcoc_fade.BF_fade > BF]\n",
    "    pos_mut = [\n",
    "        \"\".join([str(i + 12), j]) for i, j in zip(FADE.position, FADE.mut)\n",
    "    ]\n",
    "    print(workdir,\"FADE\",BF, len(FADE), set(pos_mut).intersection([\"83D\", \"261Y\", \"292S\", \"83N\", \"122Q\", \"122E\", \"292A\", \"261F\"]))\n",
    "    #print(len(interest)) \n",
    "\n",
    "\n",
    "pval = 0.1\n",
    "Emergence = all_substitutions[ all_substitutions.adjust_pvalue <= pval]\n",
    "pos_mut = [\n",
    "    \"\".join([str(i + 12), j]) for i, j in zip(Emergence.position, Emergence.mut)\n",
    "]\n",
    "print(workdir,\"Emergence\",pval, len(Emergence), set(pos_mut).intersection([\"83D\", \"261Y\", \"292S\", \"83N\", \"122Q\", \"122E\", \"292A\", \"261F\"]))\n",
    "    # #print(len(interest))\n",
    "\n",
    "BF = 20\n",
    "Correlation = all_substitutions[(all_substitutions.BF >= BF) & (all_substitutions.correlation == \"positive\")]\n",
    "pos_mut = [\n",
    "    \"\".join([str(i + 12), j]) for i, j in zip(Correlation.position, Correlation.mut)\n",
    "]\n",
    "print(workdir,\"correlation\", BF, len(Correlation), set(pos_mut).intersection([\"83D\", \"261Y\", \"292S\", \"83N\", \"122Q\", \"122E\", \"292A\", \"261F\"]))\n",
    "    # #print(len(interest))\n",
    "Condor = all_substitutions[(all_substitutions.BF >= BF) & (all_substitutions.correlation == \"positive\") & (all_substitutions.adjust_pvalue <= pval)]\n",
    "pos_mut = [\n",
    "    \"\".join([str(i + 12), j]) for i, j in zip(Condor.position, Condor.mut)\n",
    "]\n",
    "print(workdir,\"Condor\",BF, len(Condor), set(pos_mut).intersection([\"83D\", \"261Y\", \"292S\", \"83N\", \"122Q\", \"122E\", \"292A\", \"261F\"]))\n",
    "    # #print(len(interest))     \n",
    "    \n",
    "pc = 0.8\n",
    "interest = All_bayes_pcoc[(All_bayes_pcoc.PC >= pc) & (All_bayes_pcoc.correlation == \"positive\")]\n",
    "pos_mut = [\n",
    "    \"\".join([str(i + 12), j]) for i, j in zip(interest.position, interest.mut)\n",
    "]\n",
    "print(workdir,\"pcoc\",pc, len(interest), set(pos_mut).intersection([\"83D\", \"261Y\", \"292S\", \"83N\", \"122Q\", \"122E\", \"292A\", \"261F\"]))\n"
   ]
  },
  {
   "cell_type": "markdown",
   "metadata": {},
   "source": [
    "## Rankings "
   ]
  },
  {
   "cell_type": "code",
   "execution_count": 25,
   "metadata": {},
   "outputs": [
    {
     "name": "stdout",
     "output_type": "stream",
     "text": [
      "LG_freshbrackish ConDor 83D 1\n",
      "LG_freshbrackish ConDor 122E 94\n",
      "LG_freshbrackish ConDor 261Y 5\n",
      "LG_freshbrackish ConDor 166S 3\n"
     ]
    }
   ],
   "source": [
    "#\"LG_freshbrackish\", \"LG_marine\", \"JTT_freshbrackish\", \"JTT_marine\"\n",
    "\n",
    "#1st with freshbrackish environment\n",
    "workdir = \"LG_freshbrackish\" \n",
    "pcoc_results = pd.read_csv(path_local+\"results/rhodopsin/PCOC/pcoc_pastml_freshbrackish/lessgappy.align_reroot.results.tsv\", sep=\"\\t\")\n",
    "\n",
    "#2nd with marine environment\n",
    "#workdir = \"LG_marine\"\n",
    "#pcoc_results = pd.read_csv(path_local+\"results/rhodopsin/PCOC/pcoc_pastml_marine/lessgappy.align_reroot.results.tsv\", sep=\"\\t\")\n",
    "\n",
    "all_substitutions = pd.read_csv(\n",
    "    path_local\n",
    "    + \"results/rhodopsin/condor/\"\n",
    "    + workdir\n",
    "    + \"/tested_results.tsv\",\n",
    "    sep=\"\\t\",\n",
    ")\n",
    "\n",
    "\n",
    "subset_pcoc_results = pd.DataFrame(pcoc_results[pcoc_results.Sites.isin(all_substitutions.position)])\n",
    "subset_pcoc_results.rename(columns={\"Sites\": \"position\"}, inplace = True)\n",
    "All_bayes_pcoc = pd.merge(all_substitutions, subset_pcoc_results, on=\"position\")\n",
    "\n",
    "\n",
    "FADE_file = path_local+\"results/rhodopsin/FADE/datamonkey-rhodo_conjunction_\"+workdir+\".csv\"\n",
    "\n",
    "FADE = pd.read_csv(FADE_file, sep=\",\")\n",
    "FADE.columns = [\"mut\", \"position\", \"rate\", \"bias\", \"proba\", \"BF_fade\", \"composition\", \"substitutions\"]\n",
    "FADE[\"posmut\"] = FADE[\"position\"].astype(str)+FADE[\"mut\"]\n",
    "FADE_tested = pd.DataFrame(FADE[FADE.posmut.isin(all_substitutions[\"posmut\"])])\n",
    "\n",
    "All_bayes_pcoc_fade = pd.merge(All_bayes_pcoc, FADE_tested , on=[\"posmut\", \"position\", \"mut\"])\n",
    "\n",
    "pos_corr = All_bayes_pcoc_fade[All_bayes_pcoc_fade.correlation == \"positive\"]\n",
    "\n",
    "method = \"ConDor\" #FADE #PCOC, Emergence, Correlation, ConDor\n",
    "\n",
    "if \"freshbrackish\" in workdir : \n",
    "    for mut_i in [\"83D\", \"122E\", \"261Y\", \"292A\", \"166S\"]:\n",
    "        if method == \"FADE\":\n",
    "            DF_sort = All_bayes_pcoc_fade.sort_values(by = ['BF_fade'], ascending=[False])\n",
    "        elif method == \"Correlation\":\n",
    "            DF_sort = All_bayes_pcoc_fade[(All_bayes_pcoc_fade.correlation == \"positive\")].sort_values(by = ['BF'], ascending=[False])\n",
    "        elif method == \"PCOC\":\n",
    "            DF_sort = All_bayes_pcoc_fade[(All_bayes_pcoc_fade.correlation == \"positive\")].sort_values(by = ['PC'], ascending=[False])\n",
    "        elif method == \"Emergence\":\n",
    "            DF_sort = All_bayes_pcoc_fade[(All_bayes_pcoc_fade.correlation == \"positive\")].sort_values(by = ['pvalue_raw'], ascending=[True])\n",
    "        else:\n",
    "            DF_sort = All_bayes_pcoc_fade[(All_bayes_pcoc_fade.correlation == \"positive\") & (All_bayes_pcoc_fade.pvalue_raw < 0.1 )].sort_values(by = ['pvalue_raw', 'BF'], ascending=[True,False])\n",
    "        pos_mut = [\n",
    "            \"\".join([str(i + 12), j]) for i, j in zip(DF_sort.position, DF_sort.mut)\n",
    "        ]\n",
    "        try:\n",
    "            print(workdir, method, mut_i, pos_mut.index(mut_i)+1)\n",
    "        except:\n",
    "            pass  \n",
    "else:\n",
    "    for mut_i in [\"83N\", \"122Q\", \"261F\", \"292S\"]:\n",
    "        if method == \"FADE\":\n",
    "            DF_sort = All_bayes_pcoc_fade.sort_values(by = ['BF_fade'], ascending=[False])\n",
    "        elif method == \"Correlation\":\n",
    "            DF_sort = All_bayes_pcoc_fade[(All_bayes_pcoc_fade.correlation == \"positive\")].sort_values(by = ['BF'], ascending=[False])\n",
    "        elif method == \"PCOC\":\n",
    "            DF_sort = All_bayes_pcoc_fade[(All_bayes_pcoc_fade.correlation == \"positive\")].sort_values(by = ['PC'], ascending=[False])\n",
    "        elif method == \"Emergence\":\n",
    "            DF_sort = All_bayes_pcoc_fade[(All_bayes_pcoc_fade.correlation == \"positive\")].sort_values(by = ['pvalue_raw'], ascending=[True])\n",
    "        else:\n",
    "            DF_sort = All_bayes_pcoc_fade[(All_bayes_pcoc_fade.correlation == \"positive\") & (All_bayes_pcoc_fade.pvalue_raw < 0.1 )].sort_values(by = ['pvalue_raw', 'BF'], ascending=[True,False])\n",
    "        pos_mut = [\n",
    "            \"\".join([str(i + 12), j]) for i, j in zip(DF_sort.position, DF_sort.mut)\n",
    "        ]\n",
    "        try:\n",
    "            print(workdir, method, mut_i, pos_mut.index(mut_i)+1)\n",
    "        except:\n",
    "            pass \n",
    "    "
   ]
  }
 ],
 "metadata": {
  "kernelspec": {
   "display_name": "Python 3",
   "language": "python",
   "name": "python3"
  },
  "language_info": {
   "codemirror_mode": {
    "name": "ipython",
    "version": 3
   },
   "file_extension": ".py",
   "mimetype": "text/x-python",
   "name": "python",
   "nbconvert_exporter": "python",
   "pygments_lexer": "ipython3",
   "version": "3.7.16"
  },
  "vscode": {
   "interpreter": {
    "hash": "713530f42790a32ffc720e2475169a5e732b981473add8447e08602c6bbd573e"
   }
  }
 },
 "nbformat": 4,
 "nbformat_minor": 2
}
