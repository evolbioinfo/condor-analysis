{
 "cells": [
  {
   "cell_type": "code",
   "execution_count": 1,
   "metadata": {},
   "outputs": [],
   "source": [
    "import pandas as pd \n",
    "from Bio import SeqIO\n",
    "#handle fasta files\n",
    "from Bio import SeqIO\n",
    "#handle alignment\n",
    "from Bio import AlignIO\n",
    "from Bio.Align import AlignInfo\n",
    "from collections import Counter \n",
    "import numpy as np\n",
    "import random\n",
    "import matplotlib.pyplot as plt\n",
    "import matplotlib.patches as mpatches\n",
    "import matplotlib.lines as mlines\n",
    "import seaborn as sns\n",
    "import re\n",
    "from ete3 import Tree, PhyloTree\n",
    "\n",
    "from scipy.sparse import lil_matrix\n",
    "from scipy import sparse\n",
    "from scipy.sparse.linalg import spsolve\n",
    "\n",
    "from numpy.linalg import solve, norm\n",
    "\n",
    "from numpy.random import rand\n",
    "#from adjustText import adjust_text"
   ]
  },
  {
   "cell_type": "code",
   "execution_count": 3,
   "metadata": {},
   "outputs": [],
   "source": [
    "path_local = \"U:/users/mamorel/Projet_Convergence/condor-analysis/\""
   ]
  },
  {
   "cell_type": "code",
   "execution_count": 4,
   "metadata": {},
   "outputs": [],
   "source": [
    "positions_besnard = [505,540,572,573,623,665,731,749,751,761,780,839]\n",
    "Besnard = [\"623D\", \"731V\", \"505L\", \"751F\", \"761A\", \"749T\", \"573N\", \"839K\", \"540T\", \"780S\", \"572Q\", \"665N\"]"
   ]
  },
  {
   "cell_type": "markdown",
   "metadata": {},
   "source": [
    "## Detections"
   ]
  },
  {
   "cell_type": "code",
   "execution_count": 5,
   "metadata": {},
   "outputs": [],
   "source": [
    "all_substitutions = pd.read_csv(\n",
    "        path_local\n",
    "        + \"results/c3c4/condor/tested_results.tsv\",\n",
    "        sep=\"\\t\",\n",
    "    )\n"
   ]
  },
  {
   "cell_type": "markdown",
   "metadata": {},
   "source": [
    "#### phenotype uncertainty"
   ]
  },
  {
   "cell_type": "code",
   "execution_count": 30,
   "metadata": {},
   "outputs": [],
   "source": [
    "all_substitutions_noc3c4 = pd.read_csv(\n",
    "        path_local\n",
    "        + \"results/c3c4/condor/pheno_noc3c4/tested_results.tsv\",\n",
    "        sep=\"\\t\",\n",
    "    )"
   ]
  },
  {
   "cell_type": "markdown",
   "metadata": {},
   "source": [
    "### Add FADE"
   ]
  },
  {
   "cell_type": "code",
   "execution_count": 6,
   "metadata": {},
   "outputs": [],
   "source": [
    "FADE_c3c4 = pd.read_csv(path_local+\"results/c3c4/FADE/datamonkey-table_JTTFADE.csv\", sep=\",\")\n",
    "\n",
    "FADE_c3c4.columns = [\"mut\",\"position\",\"rate\", \"bias\", \"proba\", \"BF\", \"composition\", \"substitutions\"]\n",
    "FADE_c3c4[\"posmut\"] = FADE_c3c4[\"position\"].astype(str)+FADE_c3c4[\"mut\"]\n",
    "\n",
    "all_substitutions[\"posmut\"] = [\n",
    "\"\".join([str(i), j]) for i, j in zip(all_substitutions.position, all_substitutions.mut)\n",
    "]\n",
    "\n",
    "All_bayes_Fade = pd.merge(all_substitutions, FADE_c3c4, on=[\"posmut\", \"position\", \"mut\"], how = \"left\")"
   ]
  },
  {
   "cell_type": "markdown",
   "metadata": {},
   "source": [
    "#### pheno uncertainty"
   ]
  },
  {
   "cell_type": "code",
   "execution_count": 31,
   "metadata": {},
   "outputs": [],
   "source": [
    "FADE_noc3c4 = pd.read_csv(path_local+\"results/c3c4/FADE/datamonkey-table_noc3c4.csv\", sep=\",\")\n",
    "\n",
    "FADE_noc3c4.columns = [\"mut\",\"position\",\"rate\", \"bias\", \"proba\", \"BF\", \"composition\", \"substitutions\"]\n",
    "FADE_noc3c4[\"posmut\"] = FADE_noc3c4[\"position\"].astype(str)+FADE_noc3c4[\"mut\"]\n",
    "\n",
    "all_substitutions_noc3c4[\"posmut\"] = [\n",
    "\"\".join([str(i), j]) for i, j in zip(all_substitutions_noc3c4.position, all_substitutions_noc3c4.mut)\n",
    "]\n",
    "\n",
    "All_bayes_Fade_noc3c4 = pd.merge(all_substitutions_noc3c4, FADE_noc3c4, on=[\"posmut\", \"position\", \"mut\"], how = \"left\")"
   ]
  },
  {
   "cell_type": "markdown",
   "metadata": {},
   "source": [
    "### Add PCOC"
   ]
  },
  {
   "cell_type": "code",
   "execution_count": 8,
   "metadata": {},
   "outputs": [],
   "source": [
    "pcoc_results_all = pd.read_csv(path_local+\"results/c3c4/PCOC/pastml_pcoc/cyp_coding.aa.coor_mays.results.tsv\", sep=\"\\t\")\n",
    "subset_pcoc_results = pd.DataFrame(pcoc_results_all[pcoc_results_all.Sites.isin(all_substitutions.position)])\n",
    "subset_pcoc_results.rename(columns={\"Sites\": \"position\"}, inplace = True)\n",
    "All_bayes_fade_pcoc = pd.merge(All_bayes_Fade, subset_pcoc_results , on=\"position\")"
   ]
  },
  {
   "cell_type": "markdown",
   "metadata": {},
   "source": [
    "#### pheno uncertainty"
   ]
  },
  {
   "cell_type": "code",
   "execution_count": 33,
   "metadata": {},
   "outputs": [],
   "source": [
    "pcoc_results_all_noc3c4 = pd.read_csv(path_local+\"results/c3c4/PCOC/cyp_coding_noc3c4.aa.coor_mays.results.tsv\", sep=\"\\t\")\n",
    "subset_pcoc_results_noc3c4 = pd.DataFrame(pcoc_results_all_noc3c4[pcoc_results_all_noc3c4.Sites.isin(all_substitutions_noc3c4.position)])\n",
    "subset_pcoc_results_noc3c4.rename(columns={\"Sites\": \"position\"}, inplace = True)\n",
    "All_bayes_fade_pcoc_noc3c4 = pd.merge(All_bayes_Fade_noc3c4, subset_pcoc_results_noc3c4 , on=\"position\")"
   ]
  },
  {
   "cell_type": "markdown",
   "metadata": {},
   "source": [
    "### Analysis"
   ]
  },
  {
   "cell_type": "code",
   "execution_count": 10,
   "metadata": {},
   "outputs": [],
   "source": [
    "methods_detect = []\n",
    "#criterion bf : BF >= 2 & c == \"positive\"\n",
    "#criterion condor : p <= 0.1\n",
    "#criterion pcoc : PC > 0.8 & c == \"positive\"\n",
    "#criterion condorBT : p <= 0.1 & BF >= 2 & c == \"positive\"\n",
    "\n",
    "for p,bf,c,oc,pc, fade in  zip(All_bayes_fade_pcoc[\"adjust_pvalue\"], All_bayes_fade_pcoc[\"BF_x\"] , All_bayes_fade_pcoc[\"correlation\"], All_bayes_fade_pcoc[\"OC\"], All_bayes_fade_pcoc[\"PC\"], All_bayes_fade_pcoc[\"BF_y\"]) : \n",
    "    if (p <= 0.1) and (bf >= 2) and (c == \"positive\"):\n",
    "        methods_detect.append(\"condorBT\")\n",
    "    elif (c == \"positive\") and (pc > 0.8):\n",
    "        methods_detect.append(\"Pcoc_pos\")\n",
    "    elif (c == \"positive\") and (oc > 0.8):\n",
    "        methods_detect.append(\"Pcoc_pos\")\n",
    "    elif (pc > 0.8):\n",
    "        methods_detect.append(\"pcoc\")\n",
    "    elif (oc > 0.8):\n",
    "        methods_detect.append(\"pcoc\")\n",
    "    elif fade > 0:\n",
    "        methods_detect.append(\"fade\")\n",
    "    elif (bf >= 2) and (c == \"positive\"):\n",
    "        methods_detect.append(\"BayesTraits\")\n",
    "    elif p <= 0.1:\n",
    "        methods_detect.append(\"condor\")\n",
    "    else:\n",
    "        methods_detect.append(\"none\")\n",
    "\n",
    "All_bayes_fade_pcoc[\"method\"] = methods_detect\n"
   ]
  },
  {
   "cell_type": "code",
   "execution_count": 35,
   "metadata": {},
   "outputs": [],
   "source": [
    "methods_detect_noc3c4 = []\n",
    "#criterion bf : BF >= 2 & c == \"positive\"\n",
    "#criterion condor : p <= 0.1\n",
    "#criterion pcoc : PC > 0.8 & c == \"positive\"\n",
    "#criterion condorBT : p <= 0.1 & BF >= 2 & c == \"positive\"\n",
    "\n",
    "for p,bf,c,oc,pc, fade in  zip(All_bayes_fade_pcoc_noc3c4[\"adjust_pvalue\"], All_bayes_fade_pcoc_noc3c4[\"BF_x\"] , All_bayes_fade_pcoc_noc3c4[\"correlation\"], All_bayes_fade_pcoc_noc3c4[\"OC\"], All_bayes_fade_pcoc_noc3c4[\"PC\"], All_bayes_fade_pcoc_noc3c4[\"BF_y\"]) : \n",
    "    if (p <= 0.1) and (bf >= 2) and (c == \"positive\"):\n",
    "        methods_detect_noc3c4.append(\"condorBT\")\n",
    "    elif (c == \"positive\") and (pc > 0.8):\n",
    "        methods_detect_noc3c4.append(\"Pcoc_pos\")\n",
    "    elif (c == \"positive\") and (oc > 0.8):\n",
    "        methods_detect_noc3c4.append(\"Pcoc_pos\")\n",
    "    elif (pc > 0.8):\n",
    "        methods_detect_noc3c4.append(\"pcoc\")\n",
    "    elif (oc > 0.8):\n",
    "        methods_detect_noc3c4.append(\"pcoc\")\n",
    "    elif fade > 0:\n",
    "        methods_detect_noc3c4.append(\"fade\")\n",
    "    elif (bf >= 2) and (c == \"positive\"):\n",
    "        methods_detect_noc3c4.append(\"BayesTraits\")\n",
    "    elif p <= 0.1:\n",
    "        methods_detect_noc3c4.append(\"condor\")\n",
    "    else:\n",
    "        methods_detect_noc3c4.append(\"none\")\n",
    "\n",
    "All_bayes_fade_pcoc_noc3c4[\"method\"] = methods_detect_noc3c4\n"
   ]
  },
  {
   "cell_type": "code",
   "execution_count": 11,
   "metadata": {},
   "outputs": [],
   "source": [
    "classification = []\n",
    "risk = 0.1\n",
    "\n",
    "for det, anc, pos, mut in zip(All_bayes_fade_pcoc.method, All_bayes_fade_pcoc.pastml_root, All_bayes_fade_pcoc.position, All_bayes_fade_pcoc.mut ):\n",
    "    if det == \"condorBT\":\n",
    "        if pos in positions_besnard:\n",
    "            classification.append(\"Detected Besnard\")\n",
    "        else: \n",
    "            classification.append(\"ConDor convergent candidate\")\n",
    "    else:\n",
    "        if pos in positions_besnard:\n",
    "            classification.append(\"Not detected Besnard\")\n",
    "        else: \n",
    "            classification.append(\"Random mutation\")\n",
    "\n",
    "\n",
    "All_bayes_fade_pcoc[\"classification\"] = classification"
   ]
  },
  {
   "cell_type": "code",
   "execution_count": 36,
   "metadata": {},
   "outputs": [],
   "source": [
    "classification_noc3c4 = []\n",
    "risk = 0.1\n",
    "\n",
    "for det, anc, pos, mut in zip(All_bayes_fade_pcoc_noc3c4.method, All_bayes_fade_pcoc_noc3c4.pastml_root, All_bayes_fade_pcoc_noc3c4.position, All_bayes_fade_pcoc_noc3c4.mut ):\n",
    "    if det == \"condorBT\":\n",
    "        if pos in positions_besnard:\n",
    "            classification_noc3c4.append(\"Detected Besnard\")\n",
    "        else: \n",
    "            classification_noc3c4.append(\"ConDor convergent candidate\")\n",
    "    else:\n",
    "        if pos in positions_besnard:\n",
    "            classification_noc3c4.append(\"Not detected Besnard\")\n",
    "        else: \n",
    "            classification_noc3c4.append(\"Random mutation\")\n",
    "\n",
    "\n",
    "All_bayes_fade_pcoc_noc3c4[\"classification\"] = classification_noc3c4"
   ]
  },
  {
   "cell_type": "markdown",
   "metadata": {},
   "source": [
    "### Results per positions"
   ]
  },
  {
   "cell_type": "code",
   "execution_count": 37,
   "metadata": {},
   "outputs": [],
   "source": [
    "All_bayes_fade_pcoc_pos = All_bayes_fade_pcoc.sort_values(by = [\"position\", \"pvalue_raw\"]).groupby(\"position\").first()\n",
    "All_bayes_fade_pcoc_pos_noc3c4 = All_bayes_fade_pcoc_noc3c4.sort_values(by = [\"position\", \"pvalue_raw\"]).groupby(\"position\").first()"
   ]
  },
  {
   "cell_type": "code",
   "execution_count": 45,
   "metadata": {},
   "outputs": [
    {
     "name": "stdout",
     "output_type": "stream",
     "text": [
      "pc\n",
      "[1, 4, 11, 40, 0.08, 0.2, 0.12]\n",
      "oc\n",
      "[8, 6, 4, 38, 0.67, 0.57, 0.62]\n",
      "pcoc\n",
      "[7, 3, 5, 41, 0.58, 0.7, 0.64]\n",
      "FADE\n",
      "[11, 4, 1, 40, 0.92, 0.73, 0.81]\n",
      "emergence\n",
      "[7, 14, 5, 30, 0.58, 0.33, 0.42]\n",
      "correlation\n",
      "[7, 6, 5, 38, 0.58, 0.54, 0.56]\n",
      "condor\n",
      "[4, 3, 8, 41, 0.33, 0.57, 0.42]\n",
      "pc\n",
      "[0, 3, 11, 37, 0.0, 0.0, 0.0]\n",
      "oc\n",
      "[0, 1, 11, 39, 0.0, 0.0, 0.0]\n",
      "FADE\n",
      "[8, 9, 3, 31, 0.73, 0.47, 0.57]\n",
      "emergence\n",
      "[6, 17, 5, 23, 0.55, 0.26, 0.35]\n",
      "correlation\n",
      "[5, 7, 6, 33, 0.45, 0.42, 0.43]\n",
      "condor\n",
      "[4, 3, 7, 37, 0.36, 0.57, 0.44]\n"
     ]
    }
   ],
   "source": [
    "TP = 0\n",
    "FP = 0   \n",
    "\n",
    "def table_1_condor(df, method):\n",
    "    if method == \"pc\":\n",
    "        dataset = df[(df.PC >= 0.8) & (df.correlation == \"positive\") ]  \n",
    "    elif method == \"oc\":\n",
    "        dataset = df[(df.OC >= 0.8) & (df.correlation == \"positive\") ]  \n",
    "    elif method == \"pcoc\":\n",
    "        dataset = df[(df.PCOC >= 0.8) & (df.correlation == \"positive\") ]  \n",
    "    elif method == \"FADE\":\n",
    "    #FADE\n",
    "        dataset = df[(df.BF_y >= 100)] \n",
    "    elif method == \"FADE_inf\":\n",
    "        dataset = df[(df.BF_y > 1e16)] \n",
    "    #emergence\n",
    "    elif method == \"emergence\":\n",
    "        dataset = df[(df.adjust_pvalue <= 0.1) ]  \n",
    "    elif method == \"correlation\":\n",
    "    #correlation\n",
    "        dataset = df[(df.BF_x >= 2) & (df.correlation == \"positive\")]\n",
    "    #condor\n",
    "    else: \n",
    "        dataset = df[(df.BF_x >= 2) & (df.correlation == \"positive\") & (df.adjust_pvalue <= 0.1)]  \n",
    "    results = dict(Counter(dataset.classification))\n",
    "    #TP = results[\"Detected DRM\"]\n",
    "    TP = len(dataset[dataset.index.isin(positions_besnard)])\n",
    "    ALL = len(df)\n",
    "    P = len(df[df.classification.isin([\"Detected Besnard\", \"Not detected Besnard\"])])\n",
    "    N = len(df[~df.classification.isin([\"Detected Besnard\", \"Not detected Besnard\"])])\n",
    "    PP = len(dataset)\n",
    "    FN = P - TP\n",
    "    FP = PP-TP\n",
    "    TN = ALL-PP-FN\n",
    "    Recall = TP/P\n",
    "    Precision = TP/PP\n",
    "    #F1 = 2*(Precision*Recall)/(Precision+Recall)\n",
    "    F1bis = TP/(TP+((1/2)*(FP+FN)))\n",
    "    TPR = Recall\n",
    "    TNR = TN/N\n",
    "    bal_acc = (TPR + TNR)/2 \n",
    "    print([np.round(i,2) for i in [TP, FP, FN, TN, Recall, Precision,  F1bis]])\n",
    "\n",
    "\n",
    "for method in [\"pc\", \"oc\", \"pcoc\", \"FADE\", \"emergence\", \"correlation\", \"condor\"]:\n",
    "    print(method)\n",
    "    table_1_condor(All_bayes_fade_pcoc_pos, method)\n",
    "\n",
    "\n",
    "for method in [\"pc\", \"oc\", \"FADE\", \"emergence\", \"correlation\", \"condor\"]:\n",
    "    print(method)\n",
    "    table_1_condor(All_bayes_fade_pcoc_pos_noc3c4, method)"
   ]
  },
  {
   "cell_type": "markdown",
   "metadata": {},
   "source": [
    "## Figure 3"
   ]
  },
  {
   "cell_type": "code",
   "execution_count": 22,
   "metadata": {},
   "outputs": [
    {
     "name": "stdout",
     "output_type": "stream",
     "text": [
      "['#f2f2f2', '#dfdfdf', '#c6c6c6', '#a8a8a8', '#868686', '#686868', '#474747', '#212121']\n"
     ]
    },
    {
     "data": {
      "text/html": [
       "<svg  width=\"440\" height=\"55\"><rect x=\"0\" y=\"0\" width=\"55\" height=\"55\" style=\"fill:#f2f2f2;stroke-width:2;stroke:rgb(255,255,255)\"/><rect x=\"55\" y=\"0\" width=\"55\" height=\"55\" style=\"fill:#dfdfdf;stroke-width:2;stroke:rgb(255,255,255)\"/><rect x=\"110\" y=\"0\" width=\"55\" height=\"55\" style=\"fill:#c6c6c6;stroke-width:2;stroke:rgb(255,255,255)\"/><rect x=\"165\" y=\"0\" width=\"55\" height=\"55\" style=\"fill:#a8a8a8;stroke-width:2;stroke:rgb(255,255,255)\"/><rect x=\"220\" y=\"0\" width=\"55\" height=\"55\" style=\"fill:#868686;stroke-width:2;stroke:rgb(255,255,255)\"/><rect x=\"275\" y=\"0\" width=\"55\" height=\"55\" style=\"fill:#686868;stroke-width:2;stroke:rgb(255,255,255)\"/><rect x=\"330\" y=\"0\" width=\"55\" height=\"55\" style=\"fill:#474747;stroke-width:2;stroke:rgb(255,255,255)\"/><rect x=\"385\" y=\"0\" width=\"55\" height=\"55\" style=\"fill:#212121;stroke-width:2;stroke:rgb(255,255,255)\"/></svg>"
      ],
      "text/plain": [
       "[(0.9483275663206459, 0.9483275663206459, 0.9483275663206459),\n",
       " (0.8729104190695887, 0.8729104190695887, 0.8729104190695887),\n",
       " (0.7777777777777778, 0.7777777777777778, 0.7777777777777778),\n",
       " (0.6578085351787775, 0.6578085351787775, 0.6578085351787775),\n",
       " (0.5257977700884275, 0.5257977700884275, 0.5257977700884275),\n",
       " (0.40784313725490196, 0.40784313725490196, 0.40784313725490196),\n",
       " (0.27866205305651676, 0.27866205305651676, 0.27866205305651676),\n",
       " (0.12745866974240677, 0.12745866974240677, 0.12745866974240677)]"
      ]
     },
     "execution_count": 22,
     "metadata": {},
     "output_type": "execute_result"
    }
   ],
   "source": [
    "pal = sns.color_palette(\"Greys\", 8)\n",
    "print(pal.as_hex())\n",
    "\n",
    "sns.color_palette(\"Greys\", 8)\n"
   ]
  },
  {
   "cell_type": "code",
   "execution_count": 27,
   "metadata": {},
   "outputs": [
    {
     "data": {
      "image/png": "[encoded data removed]",
      "text/plain": [
       "<Figure size 841.68x523.44 with 1 Axes>"
      ]
     },
     "metadata": {},
     "output_type": "display_data"
    }
   ],
   "source": [
    "pos_mut_interest = set()\n",
    "\n",
    "All_bayes_fade_pcoc[\"BF_graph\"] = [i if (i > 0) and (j == \"positive\") else 0.1 for i,j in zip(All_bayes_fade_pcoc.BF_x, All_bayes_fade_pcoc.correlation)]\n",
    "\n",
    "pcoc_detections = set(All_bayes_fade_pcoc[(All_bayes_fade_pcoc.PCOC > 0.8) & (All_bayes_fade_pcoc.correlation == \"positive\")].posmut)\n",
    "besnard_det = set(All_bayes_fade_pcoc[All_bayes_fade_pcoc.classification.isin([\"Detected Besnard\", \"Not detected Besnard\"])].posmut)\n",
    "condor_det = set(All_bayes_fade_pcoc[All_bayes_fade_pcoc.method == \"condorBT\"].posmut)\n",
    "fade_det = set(All_bayes_fade_pcoc[ All_bayes_fade_pcoc.BF_y > 100 ].posmut)\n",
    "\n",
    "pos_mut_interest.update(pcoc_detections)\n",
    "pos_mut_interest.update(besnard_det)\n",
    "pos_mut_interest.update(condor_det)\n",
    "pos_mut_interest.update(fade_det)\n",
    "\n",
    "dataset = pd.DataFrame(All_bayes_fade_pcoc[All_bayes_fade_pcoc.posmut.isin(pos_mut_interest)])\n",
    "sorted_dataset = dataset.sort_values(\"pvalue_raw\" , axis=0, ascending=False)\n",
    "\n",
    "sns.set(style = \"white\")\n",
    "sns.set_context(\"notebook\", rc={\"lines.linewidth\": 1.5})\n",
    "\n",
    "f,ax= plt.subplots(1,1, figsize=(11.69, 7.27))\n",
    "\n",
    "font = 14\n",
    "\n",
    "width = 0.75\n",
    "x = np.arange(len(sorted_dataset))\n",
    "\n",
    "\n",
    "############figure#####################\n",
    "\n",
    "##color \n",
    "col_list=[]\n",
    "\n",
    "for i,j,k,l in zip(sorted_dataset.position, sorted_dataset.BF_x, sorted_dataset.classification, sorted_dataset.PCOC):\n",
    "    if k == \"Detected Besnard\":\n",
    "        col_list.append(\"k\") #black\n",
    "    elif k == \"Not detected Besnard\":\n",
    "        col_list.append(\"k\") #white\n",
    "    elif (l > 0.8):\n",
    "        col_list.append(\"w\")\n",
    "    else:\n",
    "        col_list.append(\"w\")\n",
    "\n",
    "\n",
    "pcoc = []\n",
    "for pc, b, oc in zip(sorted_dataset.PC, sorted_dataset.PCOC, sorted_dataset.OC):\n",
    "    if (oc > 0.8) & (b > 0.8): \n",
    "        pcoc.append(\"$*$\")\n",
    "    else:\n",
    "        pcoc.append(\"\")\n",
    "\n",
    "\n",
    "fade = []\n",
    "for bf in sorted_dataset.BF_y:\n",
    "    if bf > 100:\n",
    "        fade.append(\".\")\n",
    "    else:\n",
    "        fade.append(\"\")\n",
    "\n",
    "sns.barplot(data = sorted_dataset, x = \"posmut\", y = \"BF_graph\", palette = col_list)\n",
    "\n",
    "##lim pvalues\n",
    "lim1 = len(sorted_dataset[sorted_dataset.adjust_pvalue >= 0.01])\n",
    "lim10 = len(sorted_dataset[sorted_dataset.adjust_pvalue >= 0.1])\n",
    "lim50 = len(sorted_dataset[sorted_dataset.adjust_pvalue >= 0.5])\n",
    "\n",
    "ax.axhline(2 , color = 'k')\n",
    "\n",
    "ax.vlines(ymin = 0, ymax = 80, x = lim1-width*0.6 , colors = 'k', linestyles = '--')\n",
    "ax.vlines(ymin =0, ymax =80, x= lim10-width*0.6 , colors = 'k', linestyles = '--')\n",
    "\n",
    "ax.text(s = \"1%\", x = lim1-width/2 , y = 20 , fontsize=14)\n",
    "ax.text(s = \"10%\", x = lim10-width/2, y = 20 , fontsize=14)\n",
    "\n",
    "plt.axhspan(0, 2, facecolor=pal[1], alpha=1, zorder=-100)\n",
    "plt.axvspan(-1.1, lim10-width*0.6, facecolor=pal[1], alpha=1, zorder=-100)\n",
    "\n",
    "ax.text(s = \"ConDor detection zone\", x = 10, y = 70 , fontsize=14)\n",
    "\n",
    "for i, patch in enumerate(ax.patches):\n",
    "        patch.set_edgecolor('k')\n",
    "\n",
    "pop_a = mpatches.Patch(color='k', label='Convergent Mutation (Besnard et al.)')\n",
    "pop_b = mpatches.Patch(color='w', label='Non Convergent Mutation (Besnard et al.)', linewidth = 0.5)\n",
    "stars = mlines.Line2D([], [], marker='$*$', linestyle='None',\n",
    "                          markersize=15, label='Position with PCOC > 0.8', color='black',\n",
    "                          fillstyle= 'full')\n",
    "\n",
    "circle = mlines.Line2D([], [], marker='.', linestyle=\"None\",\n",
    "                          markersize=15, label='Mutation with FADE > 100', color='black',\n",
    "                          fillstyle= 'none')\n",
    "pop_b.set_edgecolor(\"k\")\n",
    "\n",
    "\n",
    "ax.legend(handles=[pop_a, pop_b, stars, circle], loc= \"upper left\", fontsize = 14, bbox_to_anchor=(0.1, -0.25), ncol = 2 )\n",
    "\n",
    "ax.set_xticks(x) \n",
    "ax.margins(x=0.02) \n",
    "\n",
    "ax.set_ylabel(\"Log Bayes factor\", fontsize = font)\n",
    "ax.set_xlabel(\"P-value: number of emergences\", fontsize = font)\n",
    "\n",
    "plt.yscale('log')\n",
    "plt.ylim(0.075, 100)\n",
    "plt.xlim(-0.5, 19.5)\n",
    "\n",
    "\n",
    "for a, b, c in zip(x, sorted_dataset.BF_graph.values, pcoc):\n",
    "    ax.plot(a, b+0.2*b, marker = c, color = \"k\", fillstyle= 'full', markersize=14)\n",
    "\n",
    "for a, b, c in zip(x, sorted_dataset.BF_graph.values, fade):\n",
    "    ax.plot(a, b+0.2*b, marker = c, color = \"k\", fillstyle= 'none', markersize=14)\n",
    "\n",
    "\n",
    "label_xticks = [\"\".join([i,str(j), k]) for i,j,k in zip(sorted_dataset.max_anc, sorted_dataset.position, sorted_dataset.mut)]\n",
    "\n",
    "\n",
    "_= plt.setp( ax, xticklabels = label_xticks)\n",
    "_= plt.setp( ax.xaxis.get_majorticklabels(), rotation=90, fontsize = font)\n",
    "_= plt.setp( ax.yaxis.get_majorticklabels(), fontsize = font)\n",
    "\n",
    "plt.tight_layout()\n"
   ]
  },
  {
   "cell_type": "markdown",
   "metadata": {},
   "source": [
    "## Change phenotype"
   ]
  },
  {
   "cell_type": "code",
   "execution_count": 28,
   "metadata": {},
   "outputs": [],
   "source": [
    "all_substitutions = pd.read_csv(\n",
    "        path_local\n",
    "        + \"results/c3c4/condor/pheno_noc3c4/tested_results.tsv\",\n",
    "        sep=\"\\t\",\n",
    "    )\n",
    "\n"
   ]
  },
  {
   "cell_type": "code",
   "execution_count": null,
   "metadata": {},
   "outputs": [],
   "source": [
    "FADE_c3c4 = pd.read_csv(path_local+\"results/c3c4/FADE/datamonkey-table_JTTFADE.csv\", sep=\",\")\n",
    "\n",
    "FADE_c3c4.columns = [\"mut\",\"position\",\"rate\", \"bias\", \"proba\", \"BF\", \"composition\", \"substitutions\"]\n",
    "FADE_c3c4[\"posmut\"] = FADE_c3c4[\"position\"].astype(str)+FADE_c3c4[\"mut\"]\n",
    "\n",
    "all_substitutions[\"posmut\"] = [\n",
    "\"\".join([str(i), j]) for i, j in zip(all_substitutions.position, all_substitutions.mut)\n",
    "]\n",
    "\n",
    "All_bayes_Fade = pd.merge(all_substitutions, FADE_c3c4, on=[\"posmut\", \"position\", \"mut\"], how = \"left\")"
   ]
  },
  {
   "cell_type": "code",
   "execution_count": null,
   "metadata": {},
   "outputs": [],
   "source": [
    "pcoc_results_all = pd.read_csv(path_local+\"results/c3c4/PCOC/pastml_pcoc/cyp_coding.aa.coor_mays.results.tsv\", sep=\"\\t\")\n",
    "subset_pcoc_results = pd.DataFrame(pcoc_results_all[pcoc_results_all.Sites.isin(all_substitutions.position)])\n",
    "subset_pcoc_results.rename(columns={\"Sites\": \"position\"}, inplace = True)\n",
    "All_bayes_fade_pcoc = pd.merge(All_bayes_Fade, subset_pcoc_results , on=\"position\")"
   ]
  },
  {
   "cell_type": "code",
   "execution_count": null,
   "metadata": {},
   "outputs": [],
   "source": []
  }
 ],
 "metadata": {
  "kernelspec": {
   "display_name": "Python 3.8.5 ('base')",
   "language": "python",
   "name": "python3"
  },
  "language_info": {
   "codemirror_mode": {
    "name": "ipython",
    "version": 3
   },
   "file_extension": ".py",
   "mimetype": "text/x-python",
   "name": "python",
   "nbconvert_exporter": "python",
   "pygments_lexer": "ipython3",
   "version": "3.8.5"
  },
  "orig_nbformat": 4,
  "vscode": {
   "interpreter": {
    "hash": "713530f42790a32ffc720e2475169a5e732b981473add8447e08602c6bbd573e"
   }
  }
 },
 "nbformat": 4,
 "nbformat_minor": 2
}
