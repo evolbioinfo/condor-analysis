{
 "cells": [
  {
   "cell_type": "code",
   "execution_count": 1,
   "metadata": {},
   "outputs": [],
   "source": [
    "import pandas as pd \n",
    "from Bio import SeqIO\n",
    "#handle fasta files\n",
    "from Bio import SeqIO\n",
    "#handle alignment\n",
    "from Bio import AlignIO\n",
    "from Bio.Align import AlignInfo\n",
    "from collections import Counter \n",
    "import numpy as np\n",
    "import random\n",
    "import matplotlib.pyplot as plt\n",
    "import matplotlib.patches as mpatches\n",
    "import matplotlib.lines as mlines\n",
    "\n",
    "import seaborn as sns\n",
    "import re\n",
    "from ete3 import Tree, PhyloTree\n",
    "\n",
    "from scipy.sparse import lil_matrix\n",
    "from scipy import sparse\n",
    "from scipy.sparse.linalg import spsolve\n",
    "\n",
    "from numpy.linalg import solve, norm\n",
    "\n",
    "from numpy.random import rand"
   ]
  },
  {
   "cell_type": "code",
   "execution_count": 2,
   "metadata": {},
   "outputs": [],
   "source": [
    "path_local = \"U:/users/mamorel/Projet_Convergence/condor-analysis/\""
   ]
  },
  {
   "cell_type": "markdown",
   "metadata": {},
   "source": [
    "## Create DRMs Dataset"
   ]
  },
  {
   "cell_type": "code",
   "execution_count": 3,
   "metadata": {},
   "outputs": [],
   "source": [
    "\n",
    "DRMs_file_update = path_local+\"data/HIV_africa/preprocessing/RT_DRMupdate2019.txt\"\n",
    "DRM_list = []\n",
    "with open(DRMs_file_update) as f:\n",
    "    for line in f:\n",
    "        DRM_list.append(line.strip())"
   ]
  },
  {
   "cell_type": "code",
   "execution_count": 4,
   "metadata": {},
   "outputs": [],
   "source": [
    "drm_associated_positions = list(re.findall(r'\\d+[0-9]', \",\".join(DRM_list)))\n",
    "variants = [i[-1] for i in DRM_list]\n",
    "\n",
    "drms_df = pd.DataFrame([DRM_list, drm_associated_positions, variants]).T\n",
    "drms_df.columns =[\"ancposmut\", \"RT_position\", \"mut\"]\n",
    "drms_df[\"pastml_root\"] = [i[0] for i in drms_df.ancposmut]\n",
    "AA = list(\"ARNDCQEGHILKMFPSTWYV\")\n",
    "\n",
    "drms_df = drms_df[(drms_df.mut.isin(AA)) & (drms_df.RT_position.astype(int) <= 250)]"
   ]
  },
  {
   "cell_type": "code",
   "execution_count": 5,
   "metadata": {},
   "outputs": [],
   "source": [
    "tips_file = path_local+\"data/HIV_africa/align.noCRF.jphmm_outgroup.aa.fa\"\n",
    "Align_tips = AlignIO.read(open(tips_file),\"fasta\")\n",
    "Tips_df = pd.DataFrame([list(rec.seq) for rec in Align_tips], index = [rec.id for rec in Align_tips])\n",
    "A_tips = Tips_df.describe()\n",
    "consensus_tips = list(\"\".join(A_tips.loc[\"top\"].values))\n",
    "step = int(\"\".join(consensus_tips).find(\"PISPIE\"))-1"
   ]
  },
  {
   "cell_type": "code",
   "execution_count": 6,
   "metadata": {},
   "outputs": [],
   "source": [
    "phenotype = path_local+\"data/HIV_africa/id_phenotype.txt\"\n",
    "pheno = []\n",
    "with open(phenotype) as f:\n",
    "    for line in f:\n",
    "        pheno.append(line.strip())"
   ]
  },
  {
   "cell_type": "code",
   "execution_count": 7,
   "metadata": {},
   "outputs": [
    {
     "data": {
      "text/plain": [
       "29"
      ]
     },
     "execution_count": 7,
     "metadata": {},
     "output_type": "execute_result"
    }
   ],
   "source": [
    "real_nb_seq = []\n",
    "for i,j in zip(drms_df.RT_position, drms_df.mut):\n",
    "    if int(i)+step <= 250:\n",
    "        real_nb_seq.append(Counter(Tips_df[int(i)+step])[j])\n",
    "    else: \n",
    "        real_nb_seq.append(0)\n",
    "\n",
    "drms_df[\"real_nb_seq\"] = real_nb_seq\n",
    "\n",
    "len(drms_df[(drms_df.real_nb_seq >= 10)])"
   ]
  },
  {
   "cell_type": "code",
   "execution_count": 8,
   "metadata": {},
   "outputs": [],
   "source": [
    "drms_df = drms_df[drms_df.real_nb_seq >= 10]"
   ]
  },
  {
   "cell_type": "markdown",
   "metadata": {},
   "source": [
    "## Detections"
   ]
  },
  {
   "cell_type": "code",
   "execution_count": 9,
   "metadata": {},
   "outputs": [],
   "source": [
    "all_substitutions = pd.read_csv(\n",
    "        path_local\n",
    "        + \"results/HIV_africa/condor/tested_results.tsv\",\n",
    "        sep=\"\\t\",\n",
    "    )"
   ]
  },
  {
   "cell_type": "markdown",
   "metadata": {},
   "source": [
    "#### MODEL MISPECIFICATION"
   ]
  },
  {
   "cell_type": "code",
   "execution_count": 38,
   "metadata": {},
   "outputs": [],
   "source": [
    "all_substitutions_JTT = pd.read_csv(\n",
    "        path_local\n",
    "        + \"results/HIV_africa/condor/model_misspecification_JTT/tested_results.tsv\",\n",
    "        sep=\"\\t\",\n",
    "    )"
   ]
  },
  {
   "cell_type": "markdown",
   "metadata": {},
   "source": [
    "## ADD FADE"
   ]
  },
  {
   "cell_type": "code",
   "execution_count": 10,
   "metadata": {},
   "outputs": [],
   "source": [
    "FADE = pd.read_csv(path_local+\"results/HIV_africa/FADE/datamonkey_fade_conjunction_HIVb.csv\", sep=\",\")\n",
    "\n",
    "FADE.columns = [\"mut\",\"position\",\"rate\", \"bias\", \"proba\", \"BF\", \"composition\", \"substitutions\"]\n",
    "FADE[\"posmut\"] = FADE[\"position\"].astype(str)+FADE[\"mut\"]\n",
    "\n",
    "all_substitutions[\"posmut\"] = [\n",
    "\"\".join([str(i), j]) for i, j in zip(all_substitutions.position, all_substitutions.mut)\n",
    "]\n",
    "\n",
    "All_bayes_Fade = pd.merge(all_substitutions, FADE, on=[\"posmut\", \"position\", \"mut\"], how = \"left\")\n"
   ]
  },
  {
   "cell_type": "markdown",
   "metadata": {},
   "source": [
    "#### MODEL MISPECIFICATION"
   ]
  },
  {
   "cell_type": "code",
   "execution_count": 50,
   "metadata": {},
   "outputs": [],
   "source": [
    "FADE_JTT = pd.read_csv(path_local+\"results/HIV_africa/FADE/datamonkey_fade_conjunction_JTT.csv\", sep=\",\")\n",
    "\n",
    "FADE_JTT.columns = [\"mut\",\"position\",\"rate\", \"bias\", \"proba\", \"BF\", \"composition\", \"substitutions\"]\n",
    "FADE_JTT[\"posmut\"] = FADE_JTT[\"position\"].astype(str)+FADE_JTT[\"mut\"]\n",
    "\n",
    "all_substitutions_JTT[\"posmut\"] = [\n",
    "\"\".join([str(i), j]) for i, j in zip(all_substitutions_JTT.position, all_substitutions_JTT.mut)\n",
    "]\n",
    "\n",
    "All_bayes_Fade_JTT = pd.merge(all_substitutions_JTT, FADE_JTT, on=[\"posmut\", \"position\", \"mut\"], how = \"left\")\n"
   ]
  },
  {
   "cell_type": "markdown",
   "metadata": {},
   "source": [
    "## ADD PCOC"
   ]
  },
  {
   "cell_type": "code",
   "execution_count": 11,
   "metadata": {},
   "outputs": [],
   "source": [
    "\n",
    "pcoc_results_all = pd.read_csv(path_local+\"results/HIV_africa/PCOC/align.noCRF.jphmm.aa.results.tsv\", sep=\"\\t\")\n",
    "subset_pcoc_results = pd.DataFrame(pcoc_results_all[pcoc_results_all.Sites.isin(all_substitutions.position)])\n",
    "subset_pcoc_results.rename(columns={\"Sites\": \"position\"}, inplace = True)\n",
    "All_bayes_fade_pcoc = pd.merge(All_bayes_Fade, subset_pcoc_results , on=\"position\")"
   ]
  },
  {
   "cell_type": "markdown",
   "metadata": {},
   "source": [
    "#### Model Misspecification"
   ]
  },
  {
   "cell_type": "code",
   "execution_count": 52,
   "metadata": {},
   "outputs": [],
   "source": [
    "\n",
    "pcoc_results_all_JTT = pd.read_csv(path_local+\"results/HIV_africa/PCOC/align.noCRF.jphmm.aa.results.tsv\", sep=\"\\t\")\n",
    "subset_pcoc_results_JTT = pd.DataFrame(pcoc_results_all[pcoc_results_all.Sites.isin(all_substitutions.position)])\n",
    "subset_pcoc_results_JTT.rename(columns={\"Sites\": \"position\"}, inplace = True)\n",
    "All_bayes_fade_pcoc_JTT = pd.merge(All_bayes_Fade_JTT, subset_pcoc_results_JTT , on=\"position\")"
   ]
  },
  {
   "cell_type": "code",
   "execution_count": 53,
   "metadata": {},
   "outputs": [
    {
     "name": "stdout",
     "output_type": "stream",
     "text": [
      "240 240\n"
     ]
    }
   ],
   "source": [
    "print(len(All_bayes_fade_pcoc),len(All_bayes_fade_pcoc_JTT))"
   ]
  },
  {
   "cell_type": "markdown",
   "metadata": {},
   "source": [
    "## Analysis"
   ]
  },
  {
   "cell_type": "code",
   "execution_count": 54,
   "metadata": {},
   "outputs": [
    {
     "data": {
      "text/plain": [
       "{101, 138, 188, 210, 215, 219, 221, 227}"
      ]
     },
     "execution_count": 54,
     "metadata": {},
     "output_type": "execute_result"
    }
   ],
   "source": [
    "set(All_bayes_fade_pcoc[(All_bayes_fade_pcoc.PC > 0.8) & (All_bayes_fade_pcoc.correlation == \"positive\") ].position).intersection(drms_df.RT_position.values.astype(int))"
   ]
  },
  {
   "cell_type": "code",
   "execution_count": 55,
   "metadata": {},
   "outputs": [
    {
     "data": {
      "text/plain": [
       "Index(['pastml_root', 'consensus_roto', 'position', 'mut', 'max_anc',\n",
       "       'ref_EEM', 'nbseq', 'evol_rate', 'genetic_distance',\n",
       "       'substitution_rate', 'findability', 'type_substitution', 'details',\n",
       "       'loss', 'loss_details', 'max_simu', 'variance', 'mean', 'pvalue_raw',\n",
       "       'adjust_pvalue', 'adjust_pvalue_fdr', 'detected_EEM', 'posmut',\n",
       "       'log-dep', 'log-indep', 'BF_x', 'correlation', 'rate', 'bias', 'proba',\n",
       "       'BF_y', 'composition', 'substitutions', 'Indel_prop',\n",
       "       'Indel_prop(ConvLeaves)', 'PCOC', 'PC', 'OC'],\n",
       "      dtype='object')"
      ]
     },
     "execution_count": 55,
     "metadata": {},
     "output_type": "execute_result"
    }
   ],
   "source": [
    "All_bayes_fade_pcoc.columns"
   ]
  },
  {
   "cell_type": "code",
   "execution_count": 12,
   "metadata": {},
   "outputs": [],
   "source": [
    "methods_detect = []\n",
    "#criterion bf : BF >=10 & c == \"positive\"\n",
    "#criterion condor : p <= 0.1\n",
    "#criterion pcoc : PC > 0.9\n",
    "#criterion condorBT : p <= 0.1 & BF >=10 & c == \"positive\"\n",
    "\n",
    "for p,bf,c,oc,pc, fade in  zip(All_bayes_fade_pcoc[\"adjust_pvalue\"], All_bayes_fade_pcoc[\"BF_x\"] , All_bayes_fade_pcoc[\"correlation\"], All_bayes_fade_pcoc[\"OC\"], All_bayes_fade_pcoc[\"PC\"], All_bayes_fade_pcoc[\"BF_y\"]) : \n",
    "    if (p <= 0.1) and (bf >= 20) and (c == \"positive\"):\n",
    "        methods_detect.append(\"condorBT\")\n",
    "    elif (c == \"positive\") and (pc > 0.8):\n",
    "        methods_detect.append(\"Pcoc_pos\")\n",
    "    elif (c == \"positive\") and (oc > 0.8):\n",
    "        methods_detect.append(\"Pcoc_pos\")\n",
    "    elif (pc > 0.8):\n",
    "        methods_detect.append(\"pcoc\")\n",
    "    elif (oc > 0.8):\n",
    "        methods_detect.append(\"pcoc\")\n",
    "    elif fade > 0:\n",
    "        methods_detect.append(\"fade\")\n",
    "    elif (bf >= 20) and (c == \"positive\"):\n",
    "        methods_detect.append(\"BayesTraits\")\n",
    "    elif p <= 0.1:\n",
    "        methods_detect.append(\"condor\")\n",
    "    else:\n",
    "        methods_detect.append(\"none\")\n",
    "\n",
    "All_bayes_fade_pcoc[\"method\"] = methods_detect"
   ]
  },
  {
   "cell_type": "code",
   "execution_count": 45,
   "metadata": {},
   "outputs": [],
   "source": [
    "methods_detect = []\n",
    "#criterion bf : BF >=10 & c == \"positive\"\n",
    "#criterion condor : p <= 0.1\n",
    "#criterion pcoc : PC > 0.9\n",
    "#criterion condorBT : p <= 0.1 & BF >=10 & c == \"positive\"\n",
    "\n",
    "for p,bf,c,oc,pc, fade in  zip(All_bayes_fade_pcoc_JTT[\"adjust_pvalue\"], All_bayes_fade_pcoc_JTT[\"BF_x\"] , All_bayes_fade_pcoc_JTT[\"correlation\"], All_bayes_fade_pcoc_JTT[\"OC\"], All_bayes_fade_pcoc_JTT[\"PC\"], All_bayes_fade_pcoc_JTT[\"BF_y\"]) : \n",
    "    if (p <= 0.1) and (bf >= 20) and (c == \"positive\"):\n",
    "        methods_detect.append(\"condorBT\")\n",
    "    elif (c == \"positive\") and (pc > 0.8):\n",
    "        methods_detect.append(\"Pcoc_pos\")\n",
    "    elif (c == \"positive\") and (oc > 0.8):\n",
    "        methods_detect.append(\"Pcoc_pos\")\n",
    "    elif (pc > 0.8):\n",
    "        methods_detect.append(\"pcoc\")\n",
    "    elif (oc > 0.8):\n",
    "        methods_detect.append(\"pcoc\")\n",
    "    elif fade > 0:\n",
    "        methods_detect.append(\"fade\")\n",
    "    elif (bf >= 20) and (c == \"positive\"):\n",
    "        methods_detect.append(\"BayesTraits\")\n",
    "    elif p <= 0.1:\n",
    "        methods_detect.append(\"condor\")\n",
    "    else:\n",
    "        methods_detect.append(\"none\")\n",
    "\n",
    "All_bayes_fade_pcoc_JTT[\"method\"] = methods_detect"
   ]
  },
  {
   "cell_type": "code",
   "execution_count": 13,
   "metadata": {},
   "outputs": [],
   "source": [
    "risk = 0.1\n",
    "classification = []\n",
    "for det, anc,pos,mut in zip(All_bayes_fade_pcoc.adjust_pvalue, All_bayes_fade_pcoc.pastml_root, All_bayes_fade_pcoc.position, All_bayes_fade_pcoc.mut ):\n",
    "    if det <= risk:\n",
    "        if \"\".join([anc,str(pos),mut]) in drms_df[\"ancposmut\"].values:\n",
    "            classification.append(\"Detected DRM\")\n",
    "        else: \n",
    "            classification.append(\"Convergent candidate\")\n",
    "    else:\n",
    "        if \"\".join([anc,str(pos),mut]) in drms_df[\"ancposmut\"].values:\n",
    "            classification.append(\"Not detected DRM\")\n",
    "        else: \n",
    "            classification.append(\"Random mutation\")\n",
    "All_bayes_fade_pcoc[\"classification\"] = classification"
   ]
  },
  {
   "cell_type": "code",
   "execution_count": 59,
   "metadata": {},
   "outputs": [],
   "source": [
    "risk = 0.1\n",
    "classification = []\n",
    "for det, anc,pos,mut in zip(All_bayes_fade_pcoc_JTT.adjust_pvalue, All_bayes_fade_pcoc_JTT.pastml_root, All_bayes_fade_pcoc_JTT.position, All_bayes_fade_pcoc_JTT.mut ):\n",
    "    if det <= risk:\n",
    "        if \"\".join([anc,str(pos),mut]) in drms_df[\"ancposmut\"].values:\n",
    "            classification.append(\"Detected DRM\")\n",
    "        else: \n",
    "            classification.append(\"Convergent candidate\")\n",
    "    else:\n",
    "        if \"\".join([anc,str(pos),mut]) in drms_df[\"ancposmut\"].values:\n",
    "            classification.append(\"Not detected DRM\")\n",
    "        else: \n",
    "            classification.append(\"Random mutation\")\n",
    "All_bayes_fade_pcoc_JTT[\"classification\"] = classification"
   ]
  },
  {
   "cell_type": "code",
   "execution_count": 60,
   "metadata": {},
   "outputs": [
    {
     "name": "stdout",
     "output_type": "stream",
     "text": [
      "pc\n",
      "[10, 10, 19, 201, 0.34, 0.5, 0.41]\n",
      "pc\n",
      "[10, 10, 19, 201, 0.34, 0.5, 0.41]\n",
      "FADE\n",
      "[22, 66, 7, 145, 0.76, 0.25, 0.38]\n",
      "FADE\n",
      "[24, 69, 5, 142, 0.83, 0.26, 0.39]\n",
      "FADE_inf\n",
      "[13, 6, 16, 205, 0.45, 0.68, 0.54]\n",
      "FADE_inf\n",
      "[14, 8, 15, 203, 0.48, 0.64, 0.55]\n",
      "emergence\n",
      "[20, 67, 9, 144, 0.69, 0.23, 0.34]\n",
      "emergence\n",
      "[21, 78, 8, 133, 0.72, 0.21, 0.33]\n",
      "correlation\n",
      "[16, 3, 13, 208, 0.55, 0.84, 0.67]\n",
      "correlation\n",
      "[16, 2, 13, 209, 0.55, 0.89, 0.68]\n",
      "condor\n",
      "[15, 2, 14, 209, 0.52, 0.88, 0.65]\n",
      "condor\n",
      "[16, 1, 13, 210, 0.55, 0.94, 0.7]\n"
     ]
    }
   ],
   "source": [
    "\n",
    "TP = 0\n",
    "FP = 0   \n",
    "\n",
    "def table_2_condor(df, method):\n",
    "    if method == \"pc\":\n",
    "    #pc\n",
    "        dataset = df[(df.PC >= 0.8) & (df.correlation == \"positive\") ]  \n",
    "    elif method == \"FADE\":\n",
    "    #FADE\n",
    "        dataset = df[(df.BF_y >= 100)] \n",
    "    elif method == \"FADE_inf\":\n",
    "        dataset = df[(df.BF_y > 1e16)] \n",
    "    #emergence\n",
    "    elif method == \"emergence\":\n",
    "        dataset = df[(df.adjust_pvalue <= 0.1) ]  \n",
    "    elif method == \"correlation\":\n",
    "    #correlation\n",
    "        dataset = df[(df.BF_x >= 20) & (df.correlation == \"positive\")]\n",
    "    #condor\n",
    "    else: \n",
    "        dataset = df[(df.BF_x >= 20) & (df.correlation == \"positive\") & (df.adjust_pvalue <= 0.1)]  \n",
    "    \n",
    "    results = dict(Counter(dataset.classification))\n",
    "    #TP = results[\"Detected DRM\"]\n",
    "    try : \n",
    "        TP = results[\"Detected DRM\"]+ results[\"Not detected DRM\"]\n",
    "    except KeyError:\n",
    "        TP = results[\"Detected DRM\"]\n",
    "    ALL = len(df)\n",
    "    P = len(df[df.classification.isin([\"Detected DRM\", \"Not detected DRM\"])])\n",
    "    N = len(df[~df.classification.isin([\"Detected DRM\", \"Not detected DRM\"])])\n",
    "    PP = len(dataset)\n",
    "    FN = P - TP\n",
    "    FP = PP-TP\n",
    "    TN = ALL-PP-FN\n",
    "    Recall = TP/P\n",
    "    Precision = TP/PP\n",
    "    F1 = 2*(Precision*Recall)/(Precision+Recall)\n",
    "    F1bis = TP/(TP+((1/2)*(FP+FN)))\n",
    "    TPR = Recall\n",
    "    TNR = TN/N\n",
    "    bal_acc = (TPR + TNR)/2 \n",
    "    print([np.round(i,2) for i in [TP, FP, FN, TN, Recall, Precision,  F1]])\n",
    "\n",
    "\n",
    "for method in [\"pc\", \"FADE\", \"FADE_inf\", \"emergence\", \"correlation\", \"condor\"]:\n",
    "    for df in [All_bayes_fade_pcoc, All_bayes_fade_pcoc_JTT]:\n",
    "        print(method)\n",
    "        table_2_condor(df, method)"
   ]
  },
  {
   "cell_type": "code",
   "execution_count": 14,
   "metadata": {},
   "outputs": [
    {
     "name": "stdout",
     "output_type": "stream",
     "text": [
      "['#f2f2f2', '#dfdfdf', '#c6c6c6', '#a8a8a8', '#868686', '#686868', '#474747', '#212121']\n"
     ]
    },
    {
     "data": {
      "text/html": [
       "<svg  width=\"440\" height=\"55\"><rect x=\"0\" y=\"0\" width=\"55\" height=\"55\" style=\"fill:#f2f2f2;stroke-width:2;stroke:rgb(255,255,255)\"/><rect x=\"55\" y=\"0\" width=\"55\" height=\"55\" style=\"fill:#dfdfdf;stroke-width:2;stroke:rgb(255,255,255)\"/><rect x=\"110\" y=\"0\" width=\"55\" height=\"55\" style=\"fill:#c6c6c6;stroke-width:2;stroke:rgb(255,255,255)\"/><rect x=\"165\" y=\"0\" width=\"55\" height=\"55\" style=\"fill:#a8a8a8;stroke-width:2;stroke:rgb(255,255,255)\"/><rect x=\"220\" y=\"0\" width=\"55\" height=\"55\" style=\"fill:#868686;stroke-width:2;stroke:rgb(255,255,255)\"/><rect x=\"275\" y=\"0\" width=\"55\" height=\"55\" style=\"fill:#686868;stroke-width:2;stroke:rgb(255,255,255)\"/><rect x=\"330\" y=\"0\" width=\"55\" height=\"55\" style=\"fill:#474747;stroke-width:2;stroke:rgb(255,255,255)\"/><rect x=\"385\" y=\"0\" width=\"55\" height=\"55\" style=\"fill:#212121;stroke-width:2;stroke:rgb(255,255,255)\"/></svg>"
      ],
      "text/plain": [
       "[(0.9483275663206459, 0.9483275663206459, 0.9483275663206459),\n",
       " (0.8729104190695887, 0.8729104190695887, 0.8729104190695887),\n",
       " (0.7777777777777778, 0.7777777777777778, 0.7777777777777778),\n",
       " (0.6578085351787775, 0.6578085351787775, 0.6578085351787775),\n",
       " (0.5257977700884275, 0.5257977700884275, 0.5257977700884275),\n",
       " (0.40784313725490196, 0.40784313725490196, 0.40784313725490196),\n",
       " (0.27866205305651676, 0.27866205305651676, 0.27866205305651676),\n",
       " (0.12745866974240677, 0.12745866974240677, 0.12745866974240677)]"
      ]
     },
     "execution_count": 14,
     "metadata": {},
     "output_type": "execute_result"
    }
   ],
   "source": [
    "#pal = sns.color_palette(\"colorblind\")\n",
    "pal = sns.color_palette(\"Greys\", 8)\n",
    "print(pal.as_hex())\n",
    "\n",
    "sns.color_palette(\"Greys\", 8)\n"
   ]
  },
  {
   "cell_type": "code",
   "execution_count": 16,
   "metadata": {},
   "outputs": [
    {
     "data": {
      "image/png": "[encoded data removed]",
      "text/plain": [
       "<Figure size 841.68x523.44 with 1 Axes>"
      ]
     },
     "metadata": {},
     "output_type": "display_data"
    }
   ],
   "source": [
    "\n",
    "\n",
    "#dataset = pd.DataFrame(All_bayes_pcoc[(All_bayes_pcoc.classification.isin([\"Detected DRM\", \"Not detected DRM\"])) | (All_bayes_pcoc.method.isin([\"condorBT\"])) | (All_bayes_pcoc.PC > 0.9) & (All_bayes_pcoc.correlation == \"positive\")])\n",
    "dataset = pd.DataFrame(All_bayes_fade_pcoc[(All_bayes_fade_pcoc.classification.isin([\"Detected DRM\", \"Not detected DRM\"])) | (All_bayes_fade_pcoc.method.isin([\"condorBT\"])) | (All_bayes_fade_pcoc.BF_y == np.inf)])\n",
    "#take only DRM or convergent detected with BT\n",
    "\n",
    "dataset[\"RT_ancposmut\"] = [\"\".join([h,str(i),j]) for h,i,j in zip(dataset.pastml_root, dataset.position, dataset.mut)]\n",
    "dataset[\"BF_graph\"] = [i if (i > 0) and (j == \"positive\") else 0.1 for i,j in zip(dataset.BF_x, dataset.correlation)]\n",
    "\n",
    "sorted_dataset = dataset.sort_values(\"pvalue_raw\" , axis=0, ascending=False)\n",
    "\n",
    "sns.set(style = \"white\")\n",
    "sns.set_context(\"notebook\", rc={\"lines.linewidth\": 1.5})\n",
    "\n",
    "f,ax= plt.subplots(1,1, figsize=(11.69, 7.27))\n",
    "font = 16\n",
    "width = 0.75\n",
    "x = np.arange(len(sorted_dataset))\n",
    "\n",
    "\n",
    "############figure#####################\n",
    "##color \n",
    "col_list=[]\n",
    "for i,j,k in zip(sorted_dataset.classification, sorted_dataset.BF_x, sorted_dataset.method):\n",
    "    if (i == \"Detected DRM\") and (j >= 20):\n",
    "        col_list.append(\"k\") #black\n",
    "    elif (i == \"Detected DRM\") and (j < 20):\n",
    "        col_list.append('k') \n",
    "    elif i == \"Not detected DRM\":\n",
    "        col_list.append('k') \n",
    "    elif k == \"Pcoc_pos\":\n",
    "        col_list.append(\"w\") \n",
    "    else:\n",
    "        col_list.append(\"w\")\n",
    "\n",
    "##pcoc\n",
    "pcoc_filtered = All_bayes_fade_pcoc[(All_bayes_fade_pcoc.PC > 0.8) & (All_bayes_fade_pcoc.correlation == \"positive\")]\n",
    "\n",
    "pcoc = []\n",
    "for pc,corr in zip(sorted_dataset.PC, sorted_dataset.correlation) :\n",
    "    if (pc > 0.8) and (corr == \"positive\") :\n",
    "        pcoc.append(\"$*$\")\n",
    "    else:\n",
    "        pcoc.append(\"\")\n",
    "\n",
    "fade = []\n",
    "for f in sorted_dataset.BF_y :\n",
    "    if f == np.inf :\n",
    "        fade.append(\".\")\n",
    "    else:\n",
    "        fade.append(\"\")\n",
    "\n",
    "\n",
    "# positive_sel = []\n",
    "# for pos in sorted_dataset.position :\n",
    "#     if pos in meme.Codon.values:\n",
    "#         positive_sel.append(\".\")\n",
    "#     else:\n",
    "#         positive_sel.append(\"\")\n",
    "\n",
    "rects1 = ax.bar(x, sorted_dataset.BF_graph.values , width, label='Log Bayes Factor', color =col_list,  linewidth = 0.5)\n",
    "\n",
    "\n",
    "##lim pvalues\n",
    "lim0 = len(sorted_dataset[sorted_dataset.adjust_pvalue == 0])\n",
    "lim1 = len(sorted_dataset[sorted_dataset.adjust_pvalue >= 0.01])\n",
    "lim10 = len(sorted_dataset[sorted_dataset.adjust_pvalue >= 0.1])\n",
    "#lim5 = len(sorted_dataset[sorted_dataset.adjust_pvalue >= 0.05])\n",
    "#lim25 = len(sorted_dataset[sorted_dataset.adjust_pvalue >= 0.25])\n",
    "lim50 = len(sorted_dataset[sorted_dataset.adjust_pvalue >= 0.5])\n",
    "\n",
    "\n",
    "ax.axhline(20 , color = 'k')\n",
    "\n",
    "ax.vlines(ymin = 0, ymax = 500, x = lim0-width*0.6 , colors = 'k', linestyles = '--')\n",
    "ax.vlines(ymin = 0, ymax = 500, x = lim1-width*0.6 , colors = 'k', linestyles = '--')\n",
    "ax.vlines(ymin =0, ymax =500, x= lim10-width*0.6 , colors = 'k', linestyles = '--')\n",
    "#ax.axvline(lim5-width*0.6 , color = 'k', linestyle = '--')\n",
    "ax.vlines(ymin =0, ymax =500, x=lim50-width*0.6 , colors = 'k', linestyles = '--')\n",
    "\n",
    "ax.text(s = \"0%\", x = lim0- width/2 , y = 100 , fontsize=14)\n",
    "ax.text(s = \"1%\", x = lim1- 1.9*width , y = 100 , fontsize=14)\n",
    "#ax.text(s = \"5%\", x = lim5-width , y = 1 , fontsize=font)\n",
    "ax.text(s = \"10%\", x = lim10-width/2, y = 100 , fontsize=14)\n",
    "ax.text(s = \"50%\", x = lim50-width/2, y = 100 , fontsize=14)\n",
    "\n",
    "\n",
    "for i, patch in enumerate(ax.patches):\n",
    "    if col_list[i] == \"k\":\n",
    "        patch.set_edgecolor('k')\n",
    "    else:\n",
    "        patch.set_edgecolor('k')\n",
    "\n",
    "pop_a = mpatches.Patch(color='k', label='DRM')\n",
    "pop_c = mpatches.Patch(color=\"w\", label='Non-DRM mutation', linewidth = 0.5)\n",
    "pop_c.set_edgecolor(\"k\")\n",
    "round = mlines.Line2D([], [], marker='.', linestyle='None',\n",
    "                       markersize=11, label='Mutation with FADE INFINITY', color='black',\n",
    "                       fillstyle= 'none')\n",
    "stars = mlines.Line2D([], [], marker='$*$', linestyle='None',\n",
    "                          markersize=10, label='Position with PC > 0.8', color='black',\n",
    "                          fillstyle= 'full')\n",
    "\n",
    "ax.legend(handles=[pop_a, pop_c, stars, round], loc= \"upper left\", fontsize = 14, bbox_to_anchor=(0.24, -0.25), ncol = 2 )\n",
    "\n",
    "ax.set_xticks(x) \n",
    "ax.margins(x=0.02) \n",
    "\n",
    "\n",
    "ax.set_ylabel(\"Log Bayes factor\", fontsize = font)\n",
    "ax.set_xlabel(\"P-value associated with the number of emergences\", fontsize = font)\n",
    "\n",
    "plt.yscale('log')\n",
    "plt.axhspan(0, 20, facecolor=pal[1], alpha=1, zorder=-100)\n",
    "plt.axvspan(-1.5, lim10-width*0.6, facecolor=pal[1], alpha=1, zorder=-100)\n",
    "ax.text(s = \"ConDor detection zone\", x = 15, y = 800 , fontsize=14)\n",
    "\n",
    "\n",
    "#plt.ylim(0.095, 1000)\n",
    "plt.xlim(-1, max(x+1))\n",
    "\n",
    "\n",
    "plt.yscale('log')\n",
    "#plt.ylim(0, 1000)\n",
    "\n",
    "\n",
    "for a, b, c in zip(x, sorted_dataset.BF_graph.values, pcoc):\n",
    "    ax.plot(a, b+b*0.1, marker = c, markersize = 10, color = \"k\")\n",
    "\n",
    "for a, b, c in zip(x, sorted_dataset.BF_graph.values, fade):\n",
    "    ax.plot(a, b+b*0.5, marker = c, markersize = 10, color = \"k\", fillstyle = \"none\")\n",
    "\n",
    "label_xticks = [\"\".join([i,str(j), k]) for i,j,k in zip(sorted_dataset.max_anc, sorted_dataset.position, sorted_dataset.mut)]\n",
    "\n",
    "\n",
    "_= plt.setp( ax, xticklabels = label_xticks)\n",
    "#_= plt.setp( ax, yticklabels = [0, 0,0,1, 10, 100, 1000])\n",
    "_= plt.setp( ax.xaxis.get_majorticklabels(), rotation=90, fontsize = font)\n",
    "_= plt.setp( ax.yaxis.get_majorticklabels(), fontsize = font)\n",
    "\n",
    "plt.tight_layout()\n"
   ]
  }
 ],
 "metadata": {
  "kernelspec": {
   "display_name": "Python 3.8.5 ('base')",
   "language": "python",
   "name": "python3"
  },
  "language_info": {
   "codemirror_mode": {
    "name": "ipython",
    "version": 3
   },
   "file_extension": ".py",
   "mimetype": "text/x-python",
   "name": "python",
   "nbconvert_exporter": "python",
   "pygments_lexer": "ipython3",
   "version": "3.8.5"
  },
  "orig_nbformat": 4,
  "vscode": {
   "interpreter": {
    "hash": "713530f42790a32ffc720e2475169a5e732b981473add8447e08602c6bbd573e"
   }
  }
 },
 "nbformat": 4,
 "nbformat_minor": 2
}
